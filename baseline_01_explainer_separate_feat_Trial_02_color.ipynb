{
 "cells": [
  {
   "cell_type": "code",
   "execution_count": null,
   "metadata": {
    "colab": {
     "base_uri": "https://localhost:8080/"
    },
    "id": "aU_HGCAlUR7h",
    "outputId": "af6e98e5-3acf-4630-9902-d1315c740e1f"
   },
   "outputs": [],
   "source": [
    "import pandas as pd\n",
    "import numpy as np\n",
    "import glob\n",
    "import seaborn as sn\n",
    "import math\n",
    "import csv\n",
    "from sklearn.manifold import TSNE\n",
    "from sklearn.decomposition import PCA\n",
    "import matplotlib.pyplot as plt\n",
    "import torch\n",
    "import torch; torch.manual_seed(0)\n",
    "import torch.nn as nn\n",
    "import torch.nn.functional as F\n",
    "import torch.utils\n",
    "import torch.distributions\n",
    "import torch.optim as optim\n",
    "import torchvision\n",
    "from tqdm.notebook import trange, tqdm\n",
    "from einops import rearrange\n",
    "from sklearn.model_selection import train_test_split\n",
    "from sklearn.model_selection import KFold\n",
    "from sklearn.model_selection import cross_val_score\n",
    "from sklearn.svm import SVC\n",
    "from sklearn.ensemble import RandomForestClassifier\n",
    "from sklearn.metrics import classification_report\n",
    "from sklearn.metrics import confusion_matrix\n",
    "from sklearn.metrics import accuracy_score\n",
    "from sklearn.model_selection import ShuffleSplit\n",
    "from sklearn.metrics import f1_score\n",
    "from sklearn.metrics import precision_score\n",
    "from sklearn.metrics import recall_score\n",
    "from sklearn.model_selection import StratifiedKFold\n",
    "from sklearn.metrics import auc\n",
    "from sklearn import metrics\n",
    "from sklearn.metrics import roc_auc_score\n",
    "from sklearn import preprocessing\n",
    "from sklearn.model_selection import ShuffleSplit\n",
    "import copy\n",
    "from itertools import cycle\n",
    "import time\n",
    "import argparse\n",
    "import os\n",
    "from sklearn.metrics import accuracy_score\n",
    "#import tensorboard_logger as tb_logger\n",
    "import shap\n",
    "from ipywidgets import widgets, interactive\n",
    "import matplotlib.pyplot as plt\n",
    "from matplotlib import colors\n",
    "from matplotlib.colors import ListedColormap"
   ]
  },
  {
   "cell_type": "markdown",
   "metadata": {
    "id": "gfhg_Klt0AEu"
   },
   "source": [
    "### <font color=brown> **Class 1: xrb-sirf45theta, Class 2: SSP** </font>"
   ]
  },
  {
   "cell_type": "markdown",
   "metadata": {
    "id": "XDFX4OTfxqli"
   },
   "source": [
    "## ***Preprocessing full spectral information***"
   ]
  },
  {
   "cell_type": "code",
   "execution_count": null,
   "metadata": {
    "colab": {
     "base_uri": "https://localhost:8080/"
    },
    "id": "FqnApw5FjNbY",
    "outputId": "f60cbf57-59b2-4010-8e7b-72724853f27d"
   },
   "outputs": [],
   "source": [
    "fileLocation = '/home/local/AD/ssaha3/CIDER/Data/contflux/class1/*.csv'\n",
    "processed_files_class1 = glob.glob(fileLocation)\n",
    "cnt = 0\n",
    "for file in processed_files_class1:\n",
    "    cnt = cnt + 1\n",
    "    #print(file)\n",
    "\n",
    "print(cnt)"
   ]
  },
  {
   "cell_type": "code",
   "execution_count": null,
   "metadata": {
    "colab": {
     "base_uri": "https://localhost:8080/"
    },
    "id": "fZENncAdCZE8",
    "outputId": "638bd9f7-d312-4488-c111-3a9acc43e4af"
   },
   "outputs": [],
   "source": [
    "fileLocation = '/home/local/AD/ssaha3/CIDER/Data/contflux/class2/*.csv'\n",
    "processed_files_class2 = glob.glob(fileLocation)\n",
    "cnt = 0\n",
    "for file in processed_files_class2:\n",
    "    cnt = cnt + 1\n",
    "    #print(file)\n",
    "\n",
    "print(cnt)"
   ]
  },
  {
   "cell_type": "code",
   "execution_count": null,
   "metadata": {
    "id": "4JZeYG8BP4sC"
   },
   "outputs": [],
   "source": [
    "def calculate_log_10(inp_dataframe):\n",
    "    temp = inp_dataframe\n",
    "    result = np.log10(temp + 1e-01)\n",
    "    final_dataframe = pd.DataFrame(result, columns = ['incid_luminosity', 'attenuated_incid_luminosity', 'diffuse_luminosity', 'diffuse_cont_luminosity'])\n",
    "    return final_dataframe"
   ]
  },
  {
   "cell_type": "code",
   "execution_count": null,
   "metadata": {
    "id": "4nIItfsgGGa9"
   },
   "outputs": [],
   "source": [
    "myList = []\n",
    "y = []\n",
    "wavelength_cont = []\n",
    "for file in processed_files_class1:\n",
    "  csv_data = pd.read_csv(file, dtype={'wavelength': str})\n",
    "  wavelength_cont = csv_data['wavelength'].tolist()\n",
    "  csv_data = csv_data.drop(['wavelength'], axis=1)\n",
    "  csv_data = calculate_log_10(csv_data)\n",
    "  all_data_tensor = torch.tensor(csv_data.values.astype(np.float32))\n",
    "  myList.append(all_data_tensor)\n",
    "  y.append(0)\n",
    "\n",
    "for file in processed_files_class2:\n",
    "  csv_data = pd.read_csv(file)\n",
    "  csv_data = csv_data.drop(['wavelength'], axis=1)\n",
    "  csv_data = calculate_log_10(csv_data)\n",
    "  all_data_tensor = torch.tensor(csv_data.values.astype(np.float32))\n",
    "  myList.append(all_data_tensor)\n",
    "  y.append(1)\n",
    "\n",
    "X1 = torch.stack(myList)\n",
    "#X2 = rearrange(X2, 'd0 d1 d2 -> d0 (d1 d2)')\n",
    "Y = torch.tensor(y)"
   ]
  },
  {
   "cell_type": "code",
   "execution_count": null,
   "metadata": {},
   "outputs": [],
   "source": [
    "#print(len(wavelength_cont))\n",
    "#print(wavelength_cont[2000])"
   ]
  },
  {
   "cell_type": "code",
   "execution_count": null,
   "metadata": {},
   "outputs": [],
   "source": [
    "mean, std = 20.6, 20.6\n",
    "temp_X1 = torch.empty_like(X1)\n",
    "print(temp_X1.shape)\n",
    "for i in range(X1.shape[0]):\n",
    "    temp_X1[i][:] = (X1[i][:] - mean)/std\n",
    "temp_X1 = temp_X1.view(294,1,2008,4)\n",
    "torch.min(temp_X1), torch.max(temp_X1)"
   ]
  },
  {
   "cell_type": "code",
   "execution_count": null,
   "metadata": {
    "colab": {
     "base_uri": "https://localhost:8080/"
    },
    "id": "YtEBnRpBIJf1",
    "outputId": "acd77165-4050-4216-8a20-8a5d60c8b781"
   },
   "outputs": [],
   "source": [
    "X1 = temp_X1\n",
    "print(X1.shape, X1.dtype)\n",
    "print(Y.shape, Y.dtype)"
   ]
  },
  {
   "cell_type": "code",
   "execution_count": null,
   "metadata": {
    "colab": {
     "base_uri": "https://localhost:8080/"
    },
    "id": "vdk3SoCCVIHh",
    "outputId": "99d087e9-4f75-451e-e871-4c259484ab17"
   },
   "outputs": [],
   "source": [
    "fileLocation = '/home/local/AD/ssaha3/CIDER/Data/lineflux/class1/*.csv'\n",
    "processed_files_class1 = glob.glob(fileLocation)\n",
    "cnt = 0\n",
    "for file in processed_files_class1:\n",
    "    cnt = cnt + 1\n",
    "    #print(file)\n",
    "\n",
    "print(cnt)"
   ]
  },
  {
   "cell_type": "code",
   "execution_count": null,
   "metadata": {
    "colab": {
     "base_uri": "https://localhost:8080/"
    },
    "id": "3kgYWXdWVIHh",
    "outputId": "717da6e7-74e6-4b58-f525-edf66195b0b4"
   },
   "outputs": [],
   "source": [
    "fileLocation = '/home/local/AD/ssaha3/CIDER/Data/lineflux/class2/*.csv'\n",
    "processed_files_class2 = glob.glob(fileLocation)\n",
    "cnt = 0\n",
    "for file in processed_files_class2:\n",
    "    cnt = cnt + 1\n",
    "    #print(file)\n",
    "\n",
    "print(cnt)"
   ]
  },
  {
   "cell_type": "code",
   "execution_count": null,
   "metadata": {
    "id": "cPhIQ3HkVIHi"
   },
   "outputs": [],
   "source": [
    "def calculate_log_10(inp_dataframe):\n",
    "  temp = inp_dataframe\n",
    "  result = np.log10(temp + 1e-01)\n",
    "  final_dataframe = pd.DataFrame(result, columns = ['luminosity'])\n",
    "  return final_dataframe"
   ]
  },
  {
   "cell_type": "code",
   "execution_count": null,
   "metadata": {
    "id": "yw733crvVIHi"
   },
   "outputs": [],
   "source": [
    "myList = []\n",
    "y = []\n",
    "wavelength_line = []\n",
    "for file in processed_files_class1:\n",
    "  csv_data = pd.read_csv(file, dtype={'wavelength': str})\n",
    "  wavelength_line = csv_data['wavelength'].tolist()\n",
    "  csv_data = csv_data.drop(['wavelength'], axis=1)\n",
    "  csv_data = calculate_log_10(csv_data)\n",
    "  all_data_tensor = torch.tensor(csv_data.values.astype(np.float32))\n",
    "  myList.append(all_data_tensor)\n",
    "  y.append(0)\n",
    "\n",
    "for file in processed_files_class2:\n",
    "  csv_data = pd.read_csv(file)\n",
    "  csv_data = csv_data.drop(['wavelength'], axis=1)\n",
    "  csv_data = calculate_log_10(csv_data)\n",
    "  all_data_tensor = torch.tensor(csv_data.values.astype(np.float32))\n",
    "  myList.append(all_data_tensor)\n",
    "  y.append(1)\n",
    "\n",
    "X2 = torch.stack(myList)\n",
    "#X2 = rearrange(X2, 'd0 d1 d2 -> d0 (d1 d2)')\n",
    "Y = torch.tensor(y)"
   ]
  },
  {
   "cell_type": "code",
   "execution_count": null,
   "metadata": {},
   "outputs": [],
   "source": [
    "print(len(wavelength_line))"
   ]
  },
  {
   "cell_type": "code",
   "execution_count": null,
   "metadata": {},
   "outputs": [],
   "source": [
    "#  normalize data to be in -1 to 1 range\n",
    "\n",
    "mean, std = 19.4, 19.4 \n",
    "temp_X2 = torch.empty_like(X2)\n",
    "print(temp_X2.shape)\n",
    "for i in range(X2.shape[0]):\n",
    "    temp_X2[i][:] = (X2[i][:] - mean)/std\n",
    "temp_X2 = temp_X2.view(294,1,143,1)\n",
    "torch.min(temp_X2), torch.max(temp_X2)"
   ]
  },
  {
   "cell_type": "code",
   "execution_count": null,
   "metadata": {
    "colab": {
     "base_uri": "https://localhost:8080/"
    },
    "id": "yFLOdwydVIHi",
    "outputId": "62a42a20-29c3-49cd-a407-9ba51bc90326"
   },
   "outputs": [],
   "source": [
    "print(X2.shape, X2.dtype)\n",
    "print(Y.shape, Y.dtype)"
   ]
  },
  {
   "cell_type": "code",
   "execution_count": null,
   "metadata": {
    "id": "PZIQYANDVYhS"
   },
   "outputs": [],
   "source": []
  },
  {
   "cell_type": "code",
   "execution_count": null,
   "metadata": {
    "colab": {
     "base_uri": "https://localhost:8080/",
     "height": 36
    },
    "id": "VCTKLcEkIiKA",
    "outputId": "00019dd8-d684-4b85-930b-6d686a968282"
   },
   "outputs": [],
   "source": [
    "device = torch.device('cuda:0' if torch.cuda.is_available() else 'cpu')\n",
    "device"
   ]
  },
  {
   "cell_type": "code",
   "execution_count": null,
   "metadata": {
    "id": "Cm-Iq9NIXU_w"
   },
   "outputs": [],
   "source": []
  },
  {
   "cell_type": "code",
   "execution_count": null,
   "metadata": {
    "id": "a24sG21YIxjv"
   },
   "outputs": [],
   "source": [
    "from torch.utils.data import Dataset, DataLoader\n",
    "class DataBuilderContflux(Dataset):\n",
    "    def __init__(self, data, inp_set):\n",
    "        self.x, self.y = X1[inp_set], Y[inp_set]\n",
    "        self.y = self.y\n",
    "        self.len=self.x.shape[0]\n",
    "    def __getitem__(self,index):\n",
    "        y = self.y[index].type(torch.LongTensor)\n",
    "        return self.x[index], y\n",
    "    def __len__(self):\n",
    "        return self.len"
   ]
  },
  {
   "cell_type": "code",
   "execution_count": null,
   "metadata": {
    "id": "Qq9bWLLHZgyv"
   },
   "outputs": [],
   "source": [
    "from torch.utils.data import Dataset, DataLoader\n",
    "class DataBuilderLineflux(Dataset):\n",
    "    def __init__(self, data, inp_set):\n",
    "        self.x, self.y = X2[inp_set], Y[inp_set]\n",
    "        self.y = self.y\n",
    "        self.len=self.x.shape[0]\n",
    "    def __getitem__(self,index):\n",
    "        y = self.y[index].type(torch.LongTensor)\n",
    "        return self.x[index], y\n",
    "    def __len__(self):\n",
    "        return self.len"
   ]
  },
  {
   "cell_type": "code",
   "execution_count": null,
   "metadata": {
    "id": "bg_hsezeCJ0B"
   },
   "outputs": [],
   "source": [
    "#'''\n",
    "kfold = 5\n",
    "batch_size = 4\n",
    "ss = ShuffleSplit(n_splits=kfold, test_size=0.20, random_state=1)\n",
    "i = 1\n",
    "\n",
    "for train_index, test_index in ss.split(X1, Y):\n",
    "  temp = train_index\n",
    "  t = int(X1.shape[0] * 0.60)\n",
    "  i_t = t\n",
    "  #print(t, temp.shape[0]-i_t)\n",
    "  train_set = temp[0:t]\n",
    "  val_set = temp[i_t:temp.shape[0]]\n",
    "  test_set = test_index\n",
    "  #print(len(train_set))\n",
    "  train_x = DataBuilderContflux(X1, train_set)\n",
    "  train_loader_contflux = DataLoader(dataset=train_x,batch_size=batch_size, shuffle=False)\n",
    "\n",
    "  val_x = DataBuilderContflux(X1, val_set)\n",
    "  val_loader_contflux = DataLoader(dataset=val_x,batch_size=batch_size, shuffle=False)\n",
    "\n",
    "  test_x = DataBuilderContflux(X1, test_set)\n",
    "  test_loader_contflux = DataLoader(dataset=test_x,batch_size=batch_size, shuffle=False)\n",
    "#'''"
   ]
  },
  {
   "cell_type": "code",
   "execution_count": null,
   "metadata": {
    "colab": {
     "base_uri": "https://localhost:8080/"
    },
    "id": "7MBvhQsLEflN",
    "outputId": "315d43ce-498a-4a61-ae97-7b5fa6fa8de7"
   },
   "outputs": [],
   "source": [
    "#utility function\n",
    "def check_batch_data(inp_loader):\n",
    "  for batch_idx, (x,y) in enumerate(inp_loader):\n",
    "      x = x.to(device)\n",
    "      y = y.to(device)\n",
    "      print(x)\n",
    "      print(x.shape, y.shape)\n",
    "      print(x.dtype, y.dtype)\n",
    "      break\n",
    "  print(batch_idx)\n",
    "  return x, y\n",
    "x1,y1 = check_batch_data(test_loader_contflux)"
   ]
  },
  {
   "cell_type": "code",
   "execution_count": null,
   "metadata": {
    "colab": {
     "base_uri": "https://localhost:8080/"
    },
    "id": "A7iEkTVScJwa",
    "outputId": "36273e5d-a7ff-41d4-bfca-a7e53e3f2afb"
   },
   "outputs": [],
   "source": [
    "'''\n",
    "#utility function\n",
    "def check_batch_data(inp_loader):\n",
    "  for batch_idx, (x,y) in enumerate(inp_loader):\n",
    "      x = x.to(device)\n",
    "      y = y.to(device)\n",
    "      print(x.shape, y.shape)\n",
    "      print(x.dtype, y.dtype)\n",
    "      break\n",
    "  print(batch_idx)\n",
    "  return x, y\n",
    "x2,y2 = check_batch_data(train_loader_lineflux)\n",
    "'''"
   ]
  },
  {
   "cell_type": "code",
   "execution_count": null,
   "metadata": {
    "colab": {
     "base_uri": "https://localhost:8080/"
    },
    "id": "qWNztkeBcOhu",
    "outputId": "f0c3324d-b6b1-4d79-ed44-136789c01de5"
   },
   "outputs": [],
   "source": [
    "'''\n",
    "print(x1.shape, y1.shape)\n",
    "print(x1.dtype, y1.dtype)\n",
    "'''"
   ]
  },
  {
   "cell_type": "code",
   "execution_count": null,
   "metadata": {
    "colab": {
     "base_uri": "https://localhost:8080/",
     "height": 244
    },
    "id": "giRnfm9lQ1Jw",
    "outputId": "7f8b8def-e7ab-4350-a990-f4ed66697aaa"
   },
   "outputs": [],
   "source": [
    "class RegressionModel(nn.Module):\n",
    "    def __init__(self):\n",
    "        super(RegressionModel, self).__init__()\n",
    "        self.conv1 = nn.Conv2d(1, 64, kernel_size=3, stride=1, padding=1)  # Input channels: 4, Output channels: 16\n",
    "        self.bn1 = nn.BatchNorm2d(64)\n",
    "        self.conv2 = nn.Conv2d(64, 32, kernel_size=3, stride=1, padding=1)  # Input channels: 16, Output channels: 32\n",
    "        self.bn2 = nn.BatchNorm2d(32)\n",
    "        self.fc = nn.Linear(32*2008*4, 143)  # Input size: 32 * 2008, Output size: 143\n",
    "\n",
    "    def forward(self, x):\n",
    "        x = torch.relu(self.bn1(self.conv1(x)))\n",
    "        x = torch.relu(self.bn2(self.conv2(x)))\n",
    "        x = x.view(x.size(0), -1)  # Flatten the tensor\n",
    "        x = self.fc(x)\n",
    "        x = x.view(x.size(0), 143)  # Reshape to the desired output shape\n",
    "        return x\n",
    "\n",
    "\n",
    "\n",
    "\n",
    "model = RegressionModel().to(device)\n",
    "criterion = nn.MSELoss()\n",
    "optimizer = optim.Adam(model.parameters(), lr=0.001)"
   ]
  },
  {
   "cell_type": "code",
   "execution_count": null,
   "metadata": {
    "colab": {
     "base_uri": "https://localhost:8080/",
     "height": 171
    },
    "id": "dXXglq4rfwF9",
    "outputId": "97e16ecd-20fe-495a-c7b9-23245fd80531"
   },
   "outputs": [],
   "source": [
    "model.load_state_dict(torch.load(\"/home/local/AD/ssaha3/CIDER/Code/baseline_01/model/baseline_01/trial_03/fold1/ckpt_199.pt\", map_location=torch.device(device)))"
   ]
  },
  {
   "cell_type": "code",
   "execution_count": null,
   "metadata": {
    "id": "i5Kxqx53LCcX"
   },
   "outputs": [],
   "source": [
    "batch = next(iter(test_loader_contflux))"
   ]
  },
  {
   "cell_type": "code",
   "execution_count": null,
   "metadata": {
    "id": "YcgsbnlKLGud"
   },
   "outputs": [],
   "source": [
    "x, _ = batch\n",
    "x = x.to(device)\n",
    "print(x.shape)"
   ]
  },
  {
   "cell_type": "code",
   "execution_count": null,
   "metadata": {},
   "outputs": [],
   "source": [
    "out = model(x)\n",
    "out.shape"
   ]
  },
  {
   "cell_type": "code",
   "execution_count": null,
   "metadata": {},
   "outputs": [],
   "source": [
    "test_samples = []\n",
    "for batch_idx, (x,y) in enumerate(test_loader_contflux):\n",
    "    x = x.to(device)\n",
    "    test_samples.append(x)\n",
    "    \n",
    "all_test_samples = torch.cat(test_samples)"
   ]
  },
  {
   "cell_type": "code",
   "execution_count": null,
   "metadata": {},
   "outputs": [],
   "source": [
    "all_test_samples.shape"
   ]
  },
  {
   "cell_type": "code",
   "execution_count": null,
   "metadata": {
    "colab": {
     "base_uri": "https://localhost:8080/",
     "height": 341
    },
    "id": "lwKYJJcID31D",
    "outputId": "eb60bf5d-80a7-4fad-923e-9b78a758bdc5"
   },
   "outputs": [],
   "source": [
    "explainer = shap.DeepExplainer(model, x.to(device))\n",
    "shap_val = explainer.shap_values(all_test_samples)"
   ]
  },
  {
   "cell_type": "code",
   "execution_count": null,
   "metadata": {},
   "outputs": [],
   "source": [
    "shap_val[0].shape"
   ]
  },
  {
   "cell_type": "code",
   "execution_count": null,
   "metadata": {},
   "outputs": [],
   "source": [
    "'''\n",
    "import pickle\n",
    "with open('wavelength_line.pkl', 'wb') as file:\n",
    "    pickle.dump(wavelength_line, file)\n",
    "\n",
    "with open('wavelength_cont.pkl', 'wb') as file:\n",
    "    pickle.dump(wavelength_cont, file)\n",
    "'''"
   ]
  },
  {
   "cell_type": "code",
   "execution_count": null,
   "metadata": {},
   "outputs": [],
   "source": [
    "'''\n",
    "with open('shap_val.pkl', 'rb') as file:\n",
    "    shap_data = pickle.load(file)\n",
    "'''"
   ]
  },
  {
   "cell_type": "code",
   "execution_count": null,
   "metadata": {},
   "outputs": [],
   "source": [
    "shap_data[0].shape"
   ]
  },
  {
   "cell_type": "code",
   "execution_count": null,
   "metadata": {},
   "outputs": [],
   "source": [
    "#np.squeeze(shap_val[0], axis=1).shape"
   ]
  },
  {
   "cell_type": "code",
   "execution_count": null,
   "metadata": {},
   "outputs": [],
   "source": [
    "def get_mean_shap_val():\n",
    "    regression_out_length = 143\n",
    "    all_mean_shap_val = []\n",
    "    for i in range(0,regression_out_length):\n",
    "        all_mean_shap_val.append(np.mean(np.squeeze(shap_val[i], axis=1), axis=0))\n",
    "\n",
    "    # Print the shape of the resulting tensor\n",
    "    #print(all_mean_shap_val[0].shape)\n",
    "    #print(all_mean_shap_val[0][:,0].shape)\n",
    "    return all_mean_shap_val"
   ]
  },
  {
   "cell_type": "code",
   "execution_count": null,
   "metadata": {},
   "outputs": [],
   "source": [
    "'''\n",
    "t1 = get_mean_shap_val()\n",
    "t1[0].shape\n",
    "len(t1)\n",
    "'''"
   ]
  },
  {
   "cell_type": "code",
   "execution_count": null,
   "metadata": {},
   "outputs": [],
   "source": [
    "'''\n",
    "std_feat_imp_score = {}\n",
    "for i in range(0, batch_sz):\n",
    "    for j in range(0,2008):\n",
    "        if j not in std_feat_imp_score.keys():\n",
    "            std_feat_imp_score[j] = 0\n",
    "        else:\n",
    "            std_feat_imp_score[j] += np.std(shap_val[0][i][0][j])\n",
    "'''"
   ]
  },
  {
   "cell_type": "code",
   "execution_count": null,
   "metadata": {},
   "outputs": [],
   "source": [
    "'''\n",
    "batch_sz = 4\n",
    "regression_out_length = 143\n",
    "for ind in range(0, regression_out_length):\n",
    "    mean_feat_imp_score = {}\n",
    "    for i in range(0, batch_sz):\n",
    "        for j in range(0,2008):\n",
    "            if j not in mean_feat_imp_score.keys():\n",
    "                mean_feat_imp_score[j] = 0\n",
    "            else:\n",
    "                mean_feat_imp_score[j] += np.mean(shap_val[ind][i][0][j])\n",
    "    sorted_dict = dict(sorted(mean_feat_imp_score.items(), key=lambda x: x[1], reverse=True))\n",
    "    if ind not in total_mean_feat_imp_score.keys():\n",
    "        total_mean_feat_imp_score[ind] = 0\n",
    "    else:\n",
    "        total_mean_feat_imp_score[ind] = sorted_dict\n",
    "'''"
   ]
  },
  {
   "cell_type": "code",
   "execution_count": null,
   "metadata": {},
   "outputs": [],
   "source": [
    "'''\n",
    "batch_sz = 4\n",
    "regression_out_length = 143\n",
    "\n",
    "total_mean_feat_imp_score = np.zeros((regression_out_length, 2008))\n",
    "\n",
    "for ind in range(regression_out_length):\n",
    "    mean_feat_imp_score = {}\n",
    "    for i in range(0,batch_sz):\n",
    "        for j in range(2008):\n",
    "            if j not in mean_feat_imp_score.keys():\n",
    "                mean_feat_imp_score[j] = 0\n",
    "            else:\n",
    "                mean_feat_imp_score[j] += np.mean(shap_val[ind][i][0][j])\n",
    "    \n",
    "    sorted_dict = dict(sorted(mean_feat_imp_score.items(), key=lambda x: x[1], reverse=True))\n",
    "    \n",
    "    total_mean_feat_imp_score[ind] = list(mean_feat_imp_score.values())\n",
    "\n",
    "#print(total_mean_feat_imp_score)\n",
    "'''"
   ]
  },
  {
   "cell_type": "code",
   "execution_count": null,
   "metadata": {},
   "outputs": [],
   "source": [
    "'''\n",
    "for key in sorted_mean_feat_imp_score:\n",
    "    value1 = sorted_mean_feat_imp_score[key]\n",
    "    value2 = std_feat_imp_score[key]\n",
    "    print(key, value1, value2)\n",
    "'''"
   ]
  },
  {
   "cell_type": "code",
   "execution_count": null,
   "metadata": {},
   "outputs": [],
   "source": [
    "def get_pos_log():\n",
    "    np.seterr(divide = 'ignore')\n",
    "    array_shape = (143, 2008, 4)\n",
    "    all_shap_val = np.empty(array_shape)\n",
    "    all_mean_shap_val = get_mean_shap_val()\n",
    "    #print(all_mean_shap_val[0].shape)\n",
    "    \n",
    "    for i, element in enumerate(all_mean_shap_val):\n",
    "        all_shap_val[i] = element\n",
    "\n",
    "    #abs_val_log = np.log(np.abs(all_shap_val))\n",
    "    #positive_values = all_shap_val[all_shap_val > 0]\n",
    "    positive_vals = np.where(all_shap_val > 0.0, all_shap_val, 0.0)\n",
    "    positive_val_log = np.where(positive_vals > 0.0, np.log(positive_vals), positive_vals)\n",
    "    return positive_val_log"
   ]
  },
  {
   "cell_type": "code",
   "execution_count": null,
   "metadata": {},
   "outputs": [],
   "source": [
    "def get_neg_log():\n",
    "    np.seterr(divide = 'ignore')\n",
    "    array_shape = (143, 2008, 4)\n",
    "    all_shap_val = np.empty(array_shape)\n",
    "    all_mean_shap_val = get_mean_shap_val()\n",
    "    \n",
    "    for i, element in enumerate(all_mean_shap_val):\n",
    "        all_shap_val[i] = element\n",
    "\n",
    "    negative_vals = np.where(all_shap_val < 0.0, all_shap_val, 0.0)\n",
    "    negative_val_log = np.where(negative_vals < 0.0, np.log(np.abs(negative_vals)), negative_vals)  #np.log(1) = 0, so applying np.log to negative values will not cause any 0 \n",
    "    return negative_val_log"
   ]
  },
  {
   "cell_type": "code",
   "execution_count": null,
   "metadata": {},
   "outputs": [],
   "source": [
    "'''\n",
    "if np.log(9.11671790e-04) > np.log(8.54650344e-04):\n",
    "    print('y')\n",
    "if np.log(8.54650344e-04) > np.log(1.66684640e-04):\n",
    "    print('y')\n",
    "    \n",
    "a = np.abs(-2.44357070e-06)\n",
    "b = np.abs(-8.08775597e-06)\n",
    "print(np.log(a), np.log(b))\n",
    "if -2.44357070e-06 > -8.08775597e-06:\n",
    "    print('y')\n",
    "if np.log(a) > np.log(b):\n",
    "    print('*y')\n",
    "'''"
   ]
  },
  {
   "cell_type": "code",
   "execution_count": null,
   "metadata": {},
   "outputs": [],
   "source": [
    "'''\n",
    "arr = np.array([5, -2, 10, -6, 3, 0, -8, 7, -1, 4])\n",
    "\n",
    "# Get the indices of the three smallest values\n",
    "smallest_indices = np.argsort(arr)[:3]\n",
    "\n",
    "# Get the other indices\n",
    "other_indices = np.arange(len(arr))\n",
    "other_indices = np.delete(other_indices, smallest_indices)\n",
    "\n",
    "# Place zero at the other_indices\n",
    "arr[other_indices] = 0\n",
    "\n",
    "print(\"Updated array:\", arr)\n",
    "'''"
   ]
  },
  {
   "cell_type": "code",
   "execution_count": null,
   "metadata": {},
   "outputs": [],
   "source": [
    "'''\n",
    "feat_ind = 1\n",
    "n = 10\n",
    "negative_vals_log = get_neg_log()\n",
    "temp = negative_vals_log[:,:,feat_ind]\n",
    "for i in range(143):\n",
    "    sorted_arr = np.sort(temp[i])[::-1]\n",
    "    print(sorted_arr)\n",
    "    # Select the three largest negative values while ignoring zero\n",
    "    negative_values = sorted_arr[sorted_arr < 0.0]\n",
    "    # Get the top n indices\n",
    "    largest_negative_values = negative_values[:n]\n",
    "    print(largest_negative_values)\n",
    "    # Get the indices of the selected values in the original array\n",
    "    selected_indices = np.where(temp[i] == largest_negative_values[:, None])[1]\n",
    "    print(selected_indices)\n",
    "    other_indices = np.arange(len(temp[i]))\n",
    "    other_indices = np.delete(other_indices, selected_indices)\n",
    "    temp[i][other_indices] = 0.0\n",
    "'''"
   ]
  },
  {
   "cell_type": "code",
   "execution_count": null,
   "metadata": {},
   "outputs": [],
   "source": [
    "'''\n",
    "arr = np.array([-5, -2, -10, -6, -3, 0, -8, -7, -4, -9])\n",
    "\n",
    "# Sort the array in descending order\n",
    "sorted_arr = np.sort(arr)[::-1]\n",
    "\n",
    "# Select the three largest negative values while ignoring zero\n",
    "negative_values = sorted_arr[sorted_arr < 0]\n",
    "largest_negative_values = negative_values[:3]\n",
    "\n",
    "# Get the indices of the selected values in the original array\n",
    "selected_indices = np.where(arr == largest_negative_values[:, None])[1]\n",
    "other_indices = np.arange(len(arr))\n",
    "other_indices = np.delete(other_indices, selected_indices)\n",
    "\n",
    "# Place zero at the other_indices\n",
    "arr[other_indices] = 0\n",
    "\n",
    "\n",
    "print(\"Selected Indices:\", selected_indices)\n",
    "print(\"Updated array:\", arr)\n",
    "'''"
   ]
  },
  {
   "cell_type": "code",
   "execution_count": null,
   "metadata": {},
   "outputs": [],
   "source": [
    "'''\n",
    "for i in range(0,143):\n",
    "    cnt = 0\n",
    "    ind = []\n",
    "    for j in range(0,2008):\n",
    "        if temp[i][j] != 0.0:\n",
    "            cnt += 1\n",
    "            ind.append(j)\n",
    "    print(i, cnt, ind)\n",
    "'''"
   ]
  },
  {
   "cell_type": "code",
   "execution_count": null,
   "metadata": {},
   "outputs": [],
   "source": [
    "'''\n",
    "min_val = -np.inf\n",
    "if 0.0 > min_val:\n",
    "    print('y')\n",
    "'''"
   ]
  },
  {
   "cell_type": "markdown",
   "metadata": {},
   "source": [
    "# Processing Positive Feature Importance Score"
   ]
  },
  {
   "cell_type": "code",
   "execution_count": null,
   "metadata": {},
   "outputs": [],
   "source": [
    "def get_top_n_feat_score(feat_ind, total_top_n):\n",
    "    #feat_ind = 0\n",
    "    top_n = 1               # to select top 1 value for each lineflux wavelength\n",
    "    positive_val_log = get_pos_log()\n",
    "    temp = positive_val_log[:,:,feat_ind]\n",
    "\n",
    "    #selecting top 1 value for each lineflux wavelength\n",
    "    for i in range(143):\n",
    "        sorted_arr = np.sort(temp[i])[::-1]\n",
    "        # Get the top 10 indices\n",
    "        top_n_indices = np.argsort(temp[i])[:top_n]\n",
    "        #print(top_n_indices) \n",
    "\n",
    "        other_indices = np.arange(len(temp[i]))\n",
    "        other_indices = np.delete(other_indices, top_n_indices)\n",
    "        temp[i][other_indices] = 0.0\n",
    "\n",
    "\n",
    "\n",
    "    list_of_top_1 = []\n",
    "    for i in range(143):\n",
    "        list_of_top_1.append([x for x in temp[i] if x < 0.0][0])\n",
    "\n",
    "    #selecting top 10 values from all 143 lineflux wavelengths\n",
    "    #total_top_n = 100         # to select total top 10 values from [143,2008] matrix\n",
    "    list_of_top_n_indices = np.argsort(list_of_top_1)[:total_top_n]\n",
    "    #print(list_of_top_n_indices)\n",
    "    for i in range(143):\n",
    "        if i not in list_of_top_n_indices:\n",
    "            temp[i] = 0\n",
    "        \n",
    "        else:  #setting values other than zero to -200.0 so that they can be easily identified\n",
    "            for index, value in enumerate(temp[i]):\n",
    "                if value != 0.0:\n",
    "                    print(value, wavelength_line[i], wavelength_cont[index])\n",
    "                    #temp[i][index] = 200\n",
    "                    #print(temp[i])\n",
    "    #print(temp)\n",
    "    return temp\n",
    "    #print(cnt)"
   ]
  },
  {
   "cell_type": "code",
   "execution_count": null,
   "metadata": {},
   "outputs": [],
   "source": [
    "feat_score = get_top_n_feat_score(0, 10)"
   ]
  },
  {
   "cell_type": "code",
   "execution_count": null,
   "metadata": {},
   "outputs": [],
   "source": [
    "'''\n",
    "total_top_n_indices = []\n",
    "for i in range(143):\n",
    "    sorted_arr = np.sort(feat_score[i])[::-1]\n",
    "    # Get the top 10 indices\n",
    "    top_n_indices = np.argsort(feat_score[i])[:1]\n",
    "    total_top_n_indices.append(top_n_indices[0])\n",
    "print(total_top_n_indices)\n",
    "'''"
   ]
  },
  {
   "cell_type": "code",
   "execution_count": null,
   "metadata": {},
   "outputs": [],
   "source": [
    "'''\n",
    "total_top_n_indices = []\n",
    "for i in range(143):\n",
    "    sorted_arr = np.sort(temp[i])[::-1]\n",
    "    # Get the top 10 indices\n",
    "    top_n_indices = np.argsort(temp[i])[:top_n]\n",
    "    total_top_n_indices.append(top_n_indices[0])\n",
    "print(total_top_n_indices)\n",
    "'''"
   ]
  },
  {
   "cell_type": "code",
   "execution_count": null,
   "metadata": {},
   "outputs": [],
   "source": [
    "'''\n",
    "for i in range(len(total_top_n_indices)):\n",
    "    if total_top_n_indices[i] > 0:\n",
    "        temp[i][total_top_n_indices[i]] = - 200.0\n",
    "'''"
   ]
  },
  {
   "cell_type": "code",
   "execution_count": null,
   "metadata": {},
   "outputs": [],
   "source": [
    "import matplotlib.pyplot as plt\n",
    "import numpy as np\n",
    "\n",
    "def plot_stat(feat_ind, tot_top_n):\n",
    "    \n",
    "    feat_score = get_top_n_feat_score(feat_ind, tot_top_n)\n",
    "    fig, ax1 = plt.subplots(figsize=(20, 8))\n",
    "    \n",
    "    # Create a colormap for non-zero values\n",
    "    cmap = plt.get_cmap('viridis')  # Change 'viridis' to the desired colormap for non-zero values\n",
    "    \n",
    "    # Create scatter points based on feat_score\n",
    "    y_coords, x_coords = np.indices(feat_score.shape)\n",
    "    \n",
    "    # Set zero values to white\n",
    "    feat_score_with_white = np.where(feat_score == 0, 1.0, feat_score)  # Map zero values to 1.0 (white)\n",
    "    \n",
    "    # Use feat_score_with_white as the color intensity\n",
    "    scatter = ax1.scatter(x_coords, y_coords, c=feat_score_with_white.flatten(), cmap=cmap, marker='s', s=list(feat_score.flatten()*(-100.0)))\n",
    "    \n",
    "    # Add colorbar\n",
    "    cbar = plt.colorbar(scatter)\n",
    "    \n",
    "    # Set tick parameters\n",
    "    ax1.tick_params(axis='both', which='major', labelsize=35, length=0)\n",
    "    plt.xlabel('Spectral Lines (Contflux)', fontsize=35, fontweight='bold')\n",
    "    plt.ylabel('Spectral Lines (Lineflux)', fontsize=35, fontweight='bold')\n",
    "\n",
    "    # Set title based on feat_ind\n",
    "    titles = [\n",
    "        'incid luminosity (positive values)',\n",
    "        'attenuated_incid luminosity (positive values)',\n",
    "        'diffuse luminosity (positive values)',\n",
    "        'diffuse continuum luminosity (positive values)'\n",
    "    ]\n",
    "    plt.title(titles[feat_ind], fontsize=35, fontweight='bold')\n",
    "\n",
    "    # Adjust layout and display the scatterplot\n",
    "    plt.tight_layout()\n",
    "    plt.show()\n"
   ]
  },
  {
   "cell_type": "code",
   "execution_count": null,
   "metadata": {},
   "outputs": [],
   "source": [
    "_ = widgets.interact(\n",
    "    plot_stat, \n",
    "    feat_ind = list(np.arange(0,4)),\n",
    "    tot_top_n = list(np.arange(0,100))\n",
    ")"
   ]
  },
  {
   "cell_type": "markdown",
   "metadata": {},
   "source": [
    "# Processing Negative Feature Importance Score"
   ]
  },
  {
   "cell_type": "code",
   "execution_count": null,
   "metadata": {},
   "outputs": [],
   "source": [
    "def get_top_n_neg_feat_score(feat_ind, total_top_n):\n",
    "    #feat_ind = 0\n",
    "    top_n = 1               # to select top 1 value for each lineflux wavelength\n",
    "    negative_vals_log = get_neg_log()\n",
    "    temp = negative_vals_log[:,:,feat_ind]\n",
    "\n",
    "    #selecting top 1 value for each lineflux wavelength\n",
    "    for i in range(143):\n",
    "        sorted_arr = np.sort(temp[i])[::-1]\n",
    "        #print(sorted_arr)\n",
    "        # Select the three largest negative values while ignoring zero\n",
    "        negative_values = sorted_arr[sorted_arr < 0.0]\n",
    "        # Get the top n indices\n",
    "        largest_negative_values = negative_values[:top_n]\n",
    "        #print(largest_negative_values)\n",
    "        # Get the indices of the selected values in the original array\n",
    "        selected_indices = np.where(temp[i] == largest_negative_values[:, None])[1]\n",
    "        #print(selected_indices)\n",
    "        other_indices = np.arange(len(temp[i]))\n",
    "        other_indices = np.delete(other_indices, selected_indices)\n",
    "        temp[i][other_indices] = 0.0\n",
    "\n",
    "\n",
    "\n",
    "    list_of_top_1 = []\n",
    "    for i in range(143):\n",
    "        list_of_top_1.append([x for x in temp[i] if x < 0.0][0])\n",
    "\n",
    "    #selecting top 10 values from all 143 lineflux wavelengths\n",
    "    #total_top_n = 100         # to select total top 10 values from [143,2008] matrix\n",
    "    list_of_top_n_indices = np.argsort(list_of_top_1)[:total_top_n]\n",
    "    #print(list_of_top_n_indices)\n",
    "    for i in range(143):\n",
    "        if i not in list_of_top_n_indices:\n",
    "            temp[i] = 0\n",
    "        \n",
    "        else:  #setting values other than zero to -200.0 so that they can be easily identified\n",
    "            for index, value in enumerate(temp[i]):\n",
    "                if value != 0.0:\n",
    "                    print(value, wavelength_line[i], wavelength_cont[index])\n",
    "                    #temp[i][index] = 200\n",
    "                    #print(temp[i])\n",
    "\n",
    "    #print(temp)\n",
    "    return temp\n",
    "    #print(cnt)"
   ]
  },
  {
   "cell_type": "code",
   "execution_count": null,
   "metadata": {},
   "outputs": [],
   "source": [
    "def plot_stat_neg(feat_ind, tot_top_n):\n",
    "    \n",
    "    feat_score = get_top_n_neg_feat_score(feat_ind, tot_top_n)\n",
    "    fig, ax1 = plt.subplots(figsize=(20, 8))\n",
    "    \n",
    "    # Create a colormap for non-zero values\n",
    "    cmap = plt.get_cmap('viridis')  # Change 'viridis' to the desired colormap for non-zero values\n",
    "    \n",
    "    # Create scatter points based on feat_score\n",
    "    y_coords, x_coords = np.indices(feat_score.shape)\n",
    "    \n",
    "    # Set zero values to white\n",
    "    feat_score_with_white = np.where(feat_score == 0, 1.0, feat_score)  # Map zero values to 1.0 (white)\n",
    "    \n",
    "    # Use feat_score_with_white as the color intensity\n",
    "    scatter = ax1.scatter(x_coords, y_coords, c=feat_score_with_white.flatten(), cmap=cmap, marker='s', s=list(feat_score.flatten()*(-100.0)))\n",
    "    \n",
    "    # Add colorbar\n",
    "    cbar = plt.colorbar(scatter)\n",
    "    \n",
    "    # Set tick parameters\n",
    "    ax1.tick_params(axis='both', which='major', labelsize=35, length=0)\n",
    "    plt.xlabel('Spectral Lines (Contflux)', fontsize=35, fontweight='bold')\n",
    "    plt.ylabel('Spectral Lines (Lineflux)', fontsize=35, fontweight='bold')\n",
    "\n",
    "    # Set title based on feat_ind\n",
    "    titles = [\n",
    "        'incid luminosity (negative values)',\n",
    "        'attenuated_incid luminosity (negative values)',\n",
    "        'diffuse luminosity (negative values)',\n",
    "        'diffuse continuum luminosity (negative values)'\n",
    "    ]\n",
    "    plt.title(titles[feat_ind], fontsize=35, fontweight='bold')\n",
    "\n",
    "    # Adjust layout and display the scatterplot\n",
    "    plt.tight_layout()\n",
    "    plt.show()\n"
   ]
  },
  {
   "cell_type": "code",
   "execution_count": null,
   "metadata": {},
   "outputs": [],
   "source": [
    "_ = widgets.interact(\n",
    "    plot_stat_neg, \n",
    "    feat_ind = list(np.arange(0,4)),\n",
    "    tot_top_n = list(np.arange(0,100))\n",
    ")"
   ]
  },
  {
   "cell_type": "code",
   "execution_count": null,
   "metadata": {},
   "outputs": [],
   "source": []
  },
  {
   "cell_type": "code",
   "execution_count": null,
   "metadata": {},
   "outputs": [],
   "source": []
  },
  {
   "cell_type": "code",
   "execution_count": null,
   "metadata": {},
   "outputs": [],
   "source": []
  }
 ],
 "metadata": {
  "colab": {
   "provenance": []
  },
  "kernelspec": {
   "display_name": "myPyTorchclone",
   "language": "python",
   "name": "mypytorchclone"
  },
  "language_info": {
   "codemirror_mode": {
    "name": "ipython",
    "version": 3
   },
   "file_extension": ".py",
   "mimetype": "text/x-python",
   "name": "python",
   "nbconvert_exporter": "python",
   "pygments_lexer": "ipython3",
   "version": "3.7.13"
  },
  "widgets": {
   "application/vnd.jupyter.widget-state+json": {
    "00254473fe794ba8a1fd54257411da33": {
     "model_module": "@jupyter-widgets/base",
     "model_module_version": "1.2.0",
     "model_name": "LayoutModel",
     "state": {
      "_model_module": "@jupyter-widgets/base",
      "_model_module_version": "1.2.0",
      "_model_name": "LayoutModel",
      "_view_count": null,
      "_view_module": "@jupyter-widgets/base",
      "_view_module_version": "1.2.0",
      "_view_name": "LayoutView",
      "align_content": null,
      "align_items": null,
      "align_self": null,
      "border": null,
      "bottom": null,
      "display": null,
      "flex": null,
      "flex_flow": null,
      "grid_area": null,
      "grid_auto_columns": null,
      "grid_auto_flow": null,
      "grid_auto_rows": null,
      "grid_column": null,
      "grid_gap": null,
      "grid_row": null,
      "grid_template_areas": null,
      "grid_template_columns": null,
      "grid_template_rows": null,
      "height": null,
      "justify_content": null,
      "justify_items": null,
      "left": null,
      "margin": null,
      "max_height": null,
      "max_width": null,
      "min_height": null,
      "min_width": null,
      "object_fit": null,
      "object_position": null,
      "order": null,
      "overflow": null,
      "overflow_x": null,
      "overflow_y": null,
      "padding": null,
      "right": null,
      "top": null,
      "visibility": null,
      "width": null
     }
    },
    "04f8e23eca584770993b2d087db59010": {
     "model_module": "@jupyter-widgets/base",
     "model_module_version": "1.2.0",
     "model_name": "LayoutModel",
     "state": {
      "_model_module": "@jupyter-widgets/base",
      "_model_module_version": "1.2.0",
      "_model_name": "LayoutModel",
      "_view_count": null,
      "_view_module": "@jupyter-widgets/base",
      "_view_module_version": "1.2.0",
      "_view_name": "LayoutView",
      "align_content": null,
      "align_items": null,
      "align_self": null,
      "border": null,
      "bottom": null,
      "display": null,
      "flex": null,
      "flex_flow": null,
      "grid_area": null,
      "grid_auto_columns": null,
      "grid_auto_flow": null,
      "grid_auto_rows": null,
      "grid_column": null,
      "grid_gap": null,
      "grid_row": null,
      "grid_template_areas": null,
      "grid_template_columns": null,
      "grid_template_rows": null,
      "height": null,
      "justify_content": null,
      "justify_items": null,
      "left": null,
      "margin": null,
      "max_height": null,
      "max_width": null,
      "min_height": null,
      "min_width": null,
      "object_fit": null,
      "object_position": null,
      "order": null,
      "overflow": null,
      "overflow_x": null,
      "overflow_y": null,
      "padding": null,
      "right": null,
      "top": null,
      "visibility": null,
      "width": null
     }
    },
    "26f3627177ef4eb78f06aca09193557d": {
     "model_module": "@jupyter-widgets/controls",
     "model_module_version": "1.5.0",
     "model_name": "ProgressStyleModel",
     "state": {
      "_model_module": "@jupyter-widgets/controls",
      "_model_module_version": "1.5.0",
      "_model_name": "ProgressStyleModel",
      "_view_count": null,
      "_view_module": "@jupyter-widgets/base",
      "_view_module_version": "1.2.0",
      "_view_name": "StyleView",
      "bar_color": null,
      "description_width": ""
     }
    },
    "5bb048e8df7f45b4b9f790b263377e87": {
     "model_module": "@jupyter-widgets/controls",
     "model_module_version": "1.5.0",
     "model_name": "HTMLModel",
     "state": {
      "_dom_classes": [],
      "_model_module": "@jupyter-widgets/controls",
      "_model_module_version": "1.5.0",
      "_model_name": "HTMLModel",
      "_view_count": null,
      "_view_module": "@jupyter-widgets/controls",
      "_view_module_version": "1.5.0",
      "_view_name": "HTMLView",
      "description": "",
      "description_tooltip": null,
      "layout": "IPY_MODEL_00254473fe794ba8a1fd54257411da33",
      "placeholder": "​",
      "style": "IPY_MODEL_67445e138fab4d64b84112e33397af6c",
      "value": " 201/500 [38:22&lt;57:12, 11.48s/it]"
     }
    },
    "67445e138fab4d64b84112e33397af6c": {
     "model_module": "@jupyter-widgets/controls",
     "model_module_version": "1.5.0",
     "model_name": "DescriptionStyleModel",
     "state": {
      "_model_module": "@jupyter-widgets/controls",
      "_model_module_version": "1.5.0",
      "_model_name": "DescriptionStyleModel",
      "_view_count": null,
      "_view_module": "@jupyter-widgets/base",
      "_view_module_version": "1.2.0",
      "_view_name": "StyleView",
      "description_width": ""
     }
    },
    "932ec716f2ed43ae9717d324b287f67a": {
     "model_module": "@jupyter-widgets/controls",
     "model_module_version": "1.5.0",
     "model_name": "FloatProgressModel",
     "state": {
      "_dom_classes": [],
      "_model_module": "@jupyter-widgets/controls",
      "_model_module_version": "1.5.0",
      "_model_name": "FloatProgressModel",
      "_view_count": null,
      "_view_module": "@jupyter-widgets/controls",
      "_view_module_version": "1.5.0",
      "_view_name": "ProgressView",
      "bar_style": "",
      "description": "",
      "description_tooltip": null,
      "layout": "IPY_MODEL_fc9c2e0ffbb64405915b0176264fb833",
      "max": 500,
      "min": 0,
      "orientation": "horizontal",
      "style": "IPY_MODEL_26f3627177ef4eb78f06aca09193557d",
      "value": 201
     }
    },
    "a5f88153215b4d38bff7d217cb43a40a": {
     "model_module": "@jupyter-widgets/controls",
     "model_module_version": "1.5.0",
     "model_name": "HTMLModel",
     "state": {
      "_dom_classes": [],
      "_model_module": "@jupyter-widgets/controls",
      "_model_module_version": "1.5.0",
      "_model_name": "HTMLModel",
      "_view_count": null,
      "_view_module": "@jupyter-widgets/controls",
      "_view_module_version": "1.5.0",
      "_view_name": "HTMLView",
      "description": "",
      "description_tooltip": null,
      "layout": "IPY_MODEL_04f8e23eca584770993b2d087db59010",
      "placeholder": "​",
      "style": "IPY_MODEL_c701cd63d0af4264b809ca03dae161db",
      "value": " 40%"
     }
    },
    "c701cd63d0af4264b809ca03dae161db": {
     "model_module": "@jupyter-widgets/controls",
     "model_module_version": "1.5.0",
     "model_name": "DescriptionStyleModel",
     "state": {
      "_model_module": "@jupyter-widgets/controls",
      "_model_module_version": "1.5.0",
      "_model_name": "DescriptionStyleModel",
      "_view_count": null,
      "_view_module": "@jupyter-widgets/base",
      "_view_module_version": "1.2.0",
      "_view_name": "StyleView",
      "description_width": ""
     }
    },
    "ca5b5e0ab918456684bda5fb302b4fce": {
     "model_module": "@jupyter-widgets/base",
     "model_module_version": "1.2.0",
     "model_name": "LayoutModel",
     "state": {
      "_model_module": "@jupyter-widgets/base",
      "_model_module_version": "1.2.0",
      "_model_name": "LayoutModel",
      "_view_count": null,
      "_view_module": "@jupyter-widgets/base",
      "_view_module_version": "1.2.0",
      "_view_name": "LayoutView",
      "align_content": null,
      "align_items": null,
      "align_self": null,
      "border": null,
      "bottom": null,
      "display": null,
      "flex": null,
      "flex_flow": null,
      "grid_area": null,
      "grid_auto_columns": null,
      "grid_auto_flow": null,
      "grid_auto_rows": null,
      "grid_column": null,
      "grid_gap": null,
      "grid_row": null,
      "grid_template_areas": null,
      "grid_template_columns": null,
      "grid_template_rows": null,
      "height": null,
      "justify_content": null,
      "justify_items": null,
      "left": null,
      "margin": null,
      "max_height": null,
      "max_width": null,
      "min_height": null,
      "min_width": null,
      "object_fit": null,
      "object_position": null,
      "order": null,
      "overflow": null,
      "overflow_x": null,
      "overflow_y": null,
      "padding": null,
      "right": null,
      "top": null,
      "visibility": null,
      "width": null
     }
    },
    "e3c5c911d5a54fcd8920e68c42e9b360": {
     "model_module": "@jupyter-widgets/controls",
     "model_module_version": "1.5.0",
     "model_name": "HBoxModel",
     "state": {
      "_dom_classes": [],
      "_model_module": "@jupyter-widgets/controls",
      "_model_module_version": "1.5.0",
      "_model_name": "HBoxModel",
      "_view_count": null,
      "_view_module": "@jupyter-widgets/controls",
      "_view_module_version": "1.5.0",
      "_view_name": "HBoxView",
      "box_style": "",
      "children": [
       "IPY_MODEL_a5f88153215b4d38bff7d217cb43a40a",
       "IPY_MODEL_932ec716f2ed43ae9717d324b287f67a",
       "IPY_MODEL_5bb048e8df7f45b4b9f790b263377e87"
      ],
      "layout": "IPY_MODEL_ca5b5e0ab918456684bda5fb302b4fce"
     }
    },
    "fc9c2e0ffbb64405915b0176264fb833": {
     "model_module": "@jupyter-widgets/base",
     "model_module_version": "1.2.0",
     "model_name": "LayoutModel",
     "state": {
      "_model_module": "@jupyter-widgets/base",
      "_model_module_version": "1.2.0",
      "_model_name": "LayoutModel",
      "_view_count": null,
      "_view_module": "@jupyter-widgets/base",
      "_view_module_version": "1.2.0",
      "_view_name": "LayoutView",
      "align_content": null,
      "align_items": null,
      "align_self": null,
      "border": null,
      "bottom": null,
      "display": null,
      "flex": null,
      "flex_flow": null,
      "grid_area": null,
      "grid_auto_columns": null,
      "grid_auto_flow": null,
      "grid_auto_rows": null,
      "grid_column": null,
      "grid_gap": null,
      "grid_row": null,
      "grid_template_areas": null,
      "grid_template_columns": null,
      "grid_template_rows": null,
      "height": null,
      "justify_content": null,
      "justify_items": null,
      "left": null,
      "margin": null,
      "max_height": null,
      "max_width": null,
      "min_height": null,
      "min_width": null,
      "object_fit": null,
      "object_position": null,
      "order": null,
      "overflow": null,
      "overflow_x": null,
      "overflow_y": null,
      "padding": null,
      "right": null,
      "top": null,
      "visibility": null,
      "width": null
     }
    }
   }
  }
 },
 "nbformat": 4,
 "nbformat_minor": 1
}
