{
 "cells": [
  {
   "cell_type": "code",
   "execution_count": 29,
   "metadata": {
    "colab": {
     "base_uri": "https://localhost:8080/"
    },
    "id": "aU_HGCAlUR7h",
    "outputId": "af6e98e5-3acf-4630-9902-d1315c740e1f"
   },
   "outputs": [],
   "source": [
    "import pandas as pd\n",
    "import numpy as np\n",
    "import glob\n",
    "import seaborn as sn\n",
    "import math\n",
    "import csv\n",
    "from sklearn.manifold import TSNE\n",
    "from sklearn.decomposition import PCA\n",
    "import matplotlib.pyplot as plt\n",
    "import torch\n",
    "import torch; torch.manual_seed(0)\n",
    "import torch.nn as nn\n",
    "import torch.nn.functional as F\n",
    "import torch.utils\n",
    "import torch.distributions\n",
    "import torch.optim as optim\n",
    "import torchvision\n",
    "from tqdm.notebook import trange, tqdm\n",
    "from einops import rearrange\n",
    "from sklearn.model_selection import train_test_split\n",
    "from sklearn.model_selection import KFold\n",
    "from sklearn.model_selection import cross_val_score\n",
    "from sklearn.svm import SVC\n",
    "from sklearn.ensemble import RandomForestClassifier\n",
    "from sklearn.metrics import classification_report\n",
    "from sklearn.metrics import confusion_matrix\n",
    "from sklearn.metrics import accuracy_score\n",
    "from sklearn.model_selection import ShuffleSplit\n",
    "from sklearn.metrics import f1_score\n",
    "from sklearn.metrics import precision_score\n",
    "from sklearn.metrics import recall_score\n",
    "from sklearn.model_selection import StratifiedKFold\n",
    "from sklearn.metrics import auc\n",
    "from sklearn import metrics\n",
    "from sklearn.metrics import roc_auc_score\n",
    "from sklearn import preprocessing\n",
    "from sklearn.model_selection import ShuffleSplit\n",
    "import copy\n",
    "from itertools import cycle\n",
    "import time\n",
    "import argparse\n",
    "import os\n",
    "from sklearn.metrics import accuracy_score\n",
    "#import tensorboard_logger as tb_logger\n",
    "import shap\n",
    "from ipywidgets import widgets, interactive\n",
    "import matplotlib.pyplot as plt\n",
    "from matplotlib import colors\n",
    "from matplotlib.colors import ListedColormap\n",
    "import pickle"
   ]
  },
  {
   "cell_type": "code",
   "execution_count": 30,
   "metadata": {},
   "outputs": [],
   "source": [
    "with open('shap_val.pkl', 'rb') as file:\n",
    "    shap_val = pickle.load(file)\n",
    "\n",
    "with open('wavelength_line.pkl', 'rb') as file:\n",
    "    wavelength_line = pickle.load(file)\n",
    "\n",
    "with open('wavelength_cont.pkl', 'rb') as file:\n",
    "    wavelength_cont = pickle.load(file)"
   ]
  },
  {
   "cell_type": "code",
   "execution_count": 31,
   "metadata": {},
   "outputs": [
    {
     "data": {
      "text/plain": [
       "(59, 1, 2008, 4)"
      ]
     },
     "execution_count": 31,
     "metadata": {},
     "output_type": "execute_result"
    }
   ],
   "source": [
    "shap_val[0].shape"
   ]
  },
  {
   "cell_type": "code",
   "execution_count": 32,
   "metadata": {},
   "outputs": [],
   "source": [
    "#np.squeeze(shap_val[0], axis=1).shape"
   ]
  },
  {
   "cell_type": "code",
   "execution_count": 33,
   "metadata": {},
   "outputs": [],
   "source": [
    "def get_mean_shap_val():\n",
    "    regression_out_length = 143\n",
    "    all_mean_shap_val = []\n",
    "    for i in range(0,regression_out_length):\n",
    "        all_mean_shap_val.append(np.mean(np.squeeze(shap_val[i], axis=1), axis=0))\n",
    "\n",
    "    # Print the shape of the resulting tensor\n",
    "    #print(all_mean_shap_val[0].shape)\n",
    "    #print(all_mean_shap_val[0][:,0].shape)\n",
    "    return all_mean_shap_val"
   ]
  },
  {
   "cell_type": "code",
   "execution_count": 34,
   "metadata": {},
   "outputs": [],
   "source": [
    "def get_pos_log():\n",
    "    np.seterr(divide = 'ignore')\n",
    "    array_shape = (143, 2008, 4)\n",
    "    all_shap_val = np.empty(array_shape)\n",
    "    all_mean_shap_val = get_mean_shap_val()\n",
    "    #print(all_mean_shap_val[0].shape)\n",
    "    \n",
    "    for i, element in enumerate(all_mean_shap_val):\n",
    "        all_shap_val[i] = element\n",
    "\n",
    "    #abs_val_log = np.log(np.abs(all_shap_val))\n",
    "    #positive_values = all_shap_val[all_shap_val > 0]\n",
    "    positive_vals = np.where(all_shap_val > 0.0, all_shap_val, 0.0)\n",
    "    positive_val_log = np.where(positive_vals > 0.0, np.log(positive_vals), positive_vals)\n",
    "    return positive_val_log"
   ]
  },
  {
   "cell_type": "code",
   "execution_count": 35,
   "metadata": {},
   "outputs": [],
   "source": [
    "def get_neg_log():\n",
    "    np.seterr(divide = 'ignore')\n",
    "    array_shape = (143, 2008, 4)\n",
    "    all_shap_val = np.empty(array_shape)\n",
    "    all_mean_shap_val = get_mean_shap_val()\n",
    "    \n",
    "    for i, element in enumerate(all_mean_shap_val):\n",
    "        all_shap_val[i] = element\n",
    "\n",
    "    negative_vals = np.where(all_shap_val < 0.0, all_shap_val, 0.0)\n",
    "    negative_val_log = np.where(negative_vals < 0.0, np.log(np.abs(negative_vals)), negative_vals)  #np.log(1) = 0, so applying np.log to negative values will not cause any 0 \n",
    "    return negative_val_log"
   ]
  },
  {
   "cell_type": "markdown",
   "metadata": {},
   "source": [
    "# Processing Positive Feature Importance Score"
   ]
  },
  {
   "cell_type": "code",
   "execution_count": 36,
   "metadata": {},
   "outputs": [],
   "source": [
    "def get_top_n_feat_score(feat_ind, total_top_n):\n",
    "    #feat_ind = 0\n",
    "    top_n = 1               # to select top 1 value for each lineflux wavelength\n",
    "    positive_val_log = get_pos_log()\n",
    "    temp = positive_val_log[:,:,feat_ind]\n",
    "\n",
    "    #selecting top 1 value for each lineflux wavelength\n",
    "    for i in range(143):\n",
    "        sorted_arr = np.sort(temp[i])[::-1]\n",
    "        # Get the top 10 indices\n",
    "        top_n_indices = np.argsort(temp[i])[:top_n]\n",
    "        #print(top_n_indices) \n",
    "\n",
    "        other_indices = np.arange(len(temp[i]))\n",
    "        other_indices = np.delete(other_indices, top_n_indices)\n",
    "        temp[i][other_indices] = 0.0\n",
    "\n",
    "\n",
    "\n",
    "    list_of_top_1 = []\n",
    "    for i in range(143):\n",
    "        list_of_top_1.append([x for x in temp[i] if x < 0.0][0])\n",
    "\n",
    "    #selecting top 10 values from all 143 lineflux wavelengths\n",
    "    #total_top_n = 100         # to select total top 10 values from [143,2008] matrix\n",
    "    list_of_top_n_indices = np.argsort(list_of_top_1)[:total_top_n]\n",
    "    #print(list_of_top_n_indices)\n",
    "    for i in range(143):\n",
    "        if i not in list_of_top_n_indices:\n",
    "            temp[i] = 0\n",
    "        \n",
    "        else:  #setting values other than zero to -200.0 so that they can be easily identified\n",
    "            for index, value in enumerate(temp[i]):\n",
    "                if value != 0.0:\n",
    "                    print(value, wavelength_line[i], wavelength_cont[index])\n",
    "                    #temp[i][index] = 200\n",
    "                    #print(temp[i])\n",
    "    #print(temp)\n",
    "    return temp\n",
    "    #print(cnt)"
   ]
  },
  {
   "cell_type": "code",
   "execution_count": 37,
   "metadata": {},
   "outputs": [
    {
     "name": "stdout",
     "output_type": "stream",
     "text": [
      "-18.385757833112145 1.640420e+03 6.190000e+04\n",
      "-18.3740465525079 1.666150e+03 1.019000e+05\n",
      "-18.18990422941624 2.324210e+03 9.830000e+03\n",
      "-17.92507452958734 4.102892e+03 1.562500e+04\n",
      "-17.980075907453116 7.137770e+03 1.127000e+07\n",
      "-17.856782397336474 9.071100e+03 3.020000e+06\n",
      "-17.716709039206286 1.945089e+04 3.350000e+04\n",
      "-17.958465991834803 1.436780e+05 1.722000e+06\n",
      "-19.157622371322677 2.183020e+05 2.421000e+06\n",
      "-18.6865408053163 3.481400e+05 7.870000e+05\n"
     ]
    }
   ],
   "source": [
    "feat_score = get_top_n_feat_score(0, 10)"
   ]
  },
  {
   "cell_type": "code",
   "execution_count": 38,
   "metadata": {},
   "outputs": [
    {
     "data": {
      "text/plain": [
       "'\\ntotal_top_n_indices = []\\nfor i in range(143):\\n    sorted_arr = np.sort(feat_score[i])[::-1]\\n    # Get the top 10 indices\\n    top_n_indices = np.argsort(feat_score[i])[:1]\\n    total_top_n_indices.append(top_n_indices[0])\\nprint(total_top_n_indices)\\n'"
      ]
     },
     "execution_count": 38,
     "metadata": {},
     "output_type": "execute_result"
    }
   ],
   "source": [
    "'''\n",
    "total_top_n_indices = []\n",
    "for i in range(143):\n",
    "    sorted_arr = np.sort(feat_score[i])[::-1]\n",
    "    # Get the top 10 indices\n",
    "    top_n_indices = np.argsort(feat_score[i])[:1]\n",
    "    total_top_n_indices.append(top_n_indices[0])\n",
    "print(total_top_n_indices)\n",
    "'''"
   ]
  },
  {
   "cell_type": "code",
   "execution_count": 39,
   "metadata": {},
   "outputs": [
    {
     "data": {
      "text/plain": [
       "'\\ntotal_top_n_indices = []\\nfor i in range(143):\\n    sorted_arr = np.sort(temp[i])[::-1]\\n    # Get the top 10 indices\\n    top_n_indices = np.argsort(temp[i])[:top_n]\\n    total_top_n_indices.append(top_n_indices[0])\\nprint(total_top_n_indices)\\n'"
      ]
     },
     "execution_count": 39,
     "metadata": {},
     "output_type": "execute_result"
    }
   ],
   "source": [
    "'''\n",
    "total_top_n_indices = []\n",
    "for i in range(143):\n",
    "    sorted_arr = np.sort(temp[i])[::-1]\n",
    "    # Get the top 10 indices\n",
    "    top_n_indices = np.argsort(temp[i])[:top_n]\n",
    "    total_top_n_indices.append(top_n_indices[0])\n",
    "print(total_top_n_indices)\n",
    "'''"
   ]
  },
  {
   "cell_type": "code",
   "execution_count": 40,
   "metadata": {},
   "outputs": [
    {
     "data": {
      "text/plain": [
       "'\\nfor i in range(len(total_top_n_indices)):\\n    if total_top_n_indices[i] > 0:\\n        temp[i][total_top_n_indices[i]] = - 200.0\\n'"
      ]
     },
     "execution_count": 40,
     "metadata": {},
     "output_type": "execute_result"
    }
   ],
   "source": [
    "'''\n",
    "for i in range(len(total_top_n_indices)):\n",
    "    if total_top_n_indices[i] > 0:\n",
    "        temp[i][total_top_n_indices[i]] = - 200.0\n",
    "'''"
   ]
  },
  {
   "cell_type": "code",
   "execution_count": 50,
   "metadata": {},
   "outputs": [],
   "source": [
    "import matplotlib.pyplot as plt\n",
    "import numpy as np\n",
    "\n",
    "def plot_stat(feat_ind, tot_top_n):\n",
    "    \n",
    "    feat_score = get_top_n_feat_score(feat_ind, tot_top_n)\n",
    "    fig, ax1 = plt.subplots(figsize=(20, 8))\n",
    "    \n",
    "    # Create a colormap for non-zero values\n",
    "    cmap = plt.get_cmap('viridis')  # Change 'viridis' to the desired colormap for non-zero values\n",
    "    \n",
    "    # Create scatter points based on feat_score\n",
    "    y_coords, x_coords = np.indices(feat_score.shape)\n",
    "    \n",
    "    # Set zero values to white\n",
    "    feat_score_with_white = np.where(feat_score == 0, 1.0, feat_score)  # Map zero values to 1.0 (white)\n",
    "    \n",
    "    # Use feat_score_with_white as the color intensity\n",
    "    scatter = ax1.scatter(x_coords, y_coords, c=feat_score_with_white.flatten(), cmap=cmap, marker='s', s=list(feat_score.flatten()*(-50.0)))\n",
    "    \n",
    "    # Add colorbar\n",
    "    cbar = plt.colorbar(scatter)\n",
    "    \n",
    "    # Set tick parameters\n",
    "    ax1.tick_params(axis='both', which='major', labelsize=35, length=0)\n",
    "    plt.xlabel('Spectral Lines (Contflux)', fontsize=35, fontweight='bold')\n",
    "    plt.ylabel('Spectral Lines (Lineflux)', fontsize=35, fontweight='bold')\n",
    "\n",
    "    # Set title based on feat_ind\n",
    "    titles = [\n",
    "        'incid luminosity (positive values)',\n",
    "        'attenuated_incid luminosity (positive values)',\n",
    "        'diffuse luminosity (positive values)',\n",
    "        'diffuse continuum luminosity (positive values)'\n",
    "    ]\n",
    "    plt.title(titles[feat_ind], fontsize=35, fontweight='bold')\n",
    "\n",
    "    # Adjust layout and display the scatterplot\n",
    "    plt.tight_layout()\n",
    "    plt.show()\n"
   ]
  },
  {
   "cell_type": "code",
   "execution_count": 51,
   "metadata": {},
   "outputs": [
    {
     "data": {
      "application/vnd.jupyter.widget-view+json": {
       "model_id": "2c723604f80e4eb8a0e7873fd4f7409f",
       "version_major": 2,
       "version_minor": 0
      },
      "text/plain": [
       "interactive(children=(Dropdown(description='feat_ind', options=(0, 1, 2, 3), value=0), Dropdown(description='t…"
      ]
     },
     "metadata": {},
     "output_type": "display_data"
    }
   ],
   "source": [
    "_ = widgets.interact(\n",
    "    plot_stat, \n",
    "    feat_ind = list(np.arange(0,4)),\n",
    "    tot_top_n = list(np.arange(0,100))\n",
    ")"
   ]
  },
  {
   "cell_type": "markdown",
   "metadata": {},
   "source": [
    "# Processing Negative Feature Importance Score"
   ]
  },
  {
   "cell_type": "code",
   "execution_count": 43,
   "metadata": {},
   "outputs": [],
   "source": [
    "def get_top_n_neg_feat_score(feat_ind, total_top_n):\n",
    "    #feat_ind = 0\n",
    "    top_n = 1               # to select top 1 value for each lineflux wavelength\n",
    "    negative_vals_log = get_neg_log()\n",
    "    temp = negative_vals_log[:,:,feat_ind]\n",
    "\n",
    "    #selecting top 1 value for each lineflux wavelength\n",
    "    for i in range(143):\n",
    "        sorted_arr = np.sort(temp[i])[::-1]\n",
    "        #print(sorted_arr)\n",
    "        # Select the three largest negative values while ignoring zero\n",
    "        negative_values = sorted_arr[sorted_arr < 0.0]\n",
    "        # Get the top n indices\n",
    "        largest_negative_values = negative_values[:top_n]\n",
    "        #print(largest_negative_values)\n",
    "        # Get the indices of the selected values in the original array\n",
    "        selected_indices = np.where(temp[i] == largest_negative_values[:, None])[1]\n",
    "        #print(selected_indices)\n",
    "        other_indices = np.arange(len(temp[i]))\n",
    "        other_indices = np.delete(other_indices, selected_indices)\n",
    "        temp[i][other_indices] = 0.0\n",
    "\n",
    "\n",
    "\n",
    "    list_of_top_1 = []\n",
    "    for i in range(143):\n",
    "        list_of_top_1.append([x for x in temp[i] if x < 0.0][0])\n",
    "\n",
    "    #selecting top 10 values from all 143 lineflux wavelengths\n",
    "    #total_top_n = 100         # to select total top 10 values from [143,2008] matrix\n",
    "    list_of_top_n_indices = np.argsort(list_of_top_1)[:total_top_n]\n",
    "    #print(list_of_top_n_indices)\n",
    "    for i in range(143):\n",
    "        if i not in list_of_top_n_indices:\n",
    "            temp[i] = 0\n",
    "        \n",
    "        else:  #setting values other than zero to -200.0 so that they can be easily identified\n",
    "            for index, value in enumerate(temp[i]):\n",
    "                if value != 0.0:\n",
    "                    print(value, wavelength_line[i], wavelength_cont[index])\n",
    "                    #temp[i][index] = 200\n",
    "                    #print(temp[i])\n",
    "\n",
    "    #print(temp)\n",
    "    return temp\n",
    "    #print(cnt)"
   ]
  },
  {
   "cell_type": "code",
   "execution_count": 48,
   "metadata": {},
   "outputs": [],
   "source": [
    "def plot_stat_neg(feat_ind, tot_top_n):\n",
    "    \n",
    "    feat_score = get_top_n_neg_feat_score(feat_ind, tot_top_n)\n",
    "    fig, ax1 = plt.subplots(figsize=(20, 8))\n",
    "    \n",
    "    # Create a colormap for non-zero values\n",
    "    cmap = plt.get_cmap('viridis')  # Change 'viridis' to the desired colormap for non-zero values\n",
    "    \n",
    "    # Create scatter points based on feat_score\n",
    "    y_coords, x_coords = np.indices(feat_score.shape)\n",
    "    \n",
    "    # Set zero values to white\n",
    "    feat_score_with_white = np.where(feat_score == 0, 1.0, feat_score)  # Map zero values to 1.0 (white)\n",
    "    \n",
    "    # Use feat_score_with_white as the color intensity\n",
    "    scatter = ax1.scatter(x_coords, y_coords, c=feat_score_with_white.flatten(), cmap=cmap, marker='s', s=list(feat_score.flatten()*(-300.0)))\n",
    "    \n",
    "    # Add colorbar\n",
    "    cbar = plt.colorbar(scatter)\n",
    "    \n",
    "    # Set tick parameters\n",
    "    ax1.tick_params(axis='both', which='major', labelsize=35, length=0)\n",
    "    plt.xlabel('Spectral Lines (Contflux)', fontsize=35, fontweight='bold')\n",
    "    plt.ylabel('Spectral Lines (Lineflux)', fontsize=35, fontweight='bold')\n",
    "\n",
    "    # Set title based on feat_ind\n",
    "    titles = [\n",
    "        'incid luminosity (negative values)',\n",
    "        'attenuated_incid luminosity (negative values)',\n",
    "        'diffuse luminosity (negative values)',\n",
    "        'diffuse continuum luminosity (negative values)'\n",
    "    ]\n",
    "    plt.title(titles[feat_ind], fontsize=35, fontweight='bold')\n",
    "\n",
    "    # Adjust layout and display the scatterplot\n",
    "    plt.tight_layout()\n",
    "    plt.show()\n"
   ]
  },
  {
   "cell_type": "code",
   "execution_count": 49,
   "metadata": {},
   "outputs": [
    {
     "data": {
      "application/vnd.jupyter.widget-view+json": {
       "model_id": "38d3bf70443c45efb2179dd5b77a31b1",
       "version_major": 2,
       "version_minor": 0
      },
      "text/plain": [
       "interactive(children=(Dropdown(description='feat_ind', options=(0, 1, 2, 3), value=0), Dropdown(description='t…"
      ]
     },
     "metadata": {},
     "output_type": "display_data"
    }
   ],
   "source": [
    "_ = widgets.interact(\n",
    "    plot_stat_neg, \n",
    "    feat_ind = list(np.arange(0,4)),\n",
    "    tot_top_n = list(np.arange(0,100))\n",
    ")"
   ]
  },
  {
   "cell_type": "code",
   "execution_count": null,
   "metadata": {},
   "outputs": [],
   "source": []
  },
  {
   "cell_type": "code",
   "execution_count": null,
   "metadata": {},
   "outputs": [],
   "source": []
  },
  {
   "cell_type": "code",
   "execution_count": null,
   "metadata": {},
   "outputs": [],
   "source": []
  }
 ],
 "metadata": {
  "colab": {
   "provenance": []
  },
  "kernelspec": {
   "display_name": "myPyTorchclone",
   "language": "python",
   "name": "mypytorchclone"
  },
  "language_info": {
   "codemirror_mode": {
    "name": "ipython",
    "version": 3
   },
   "file_extension": ".py",
   "mimetype": "text/x-python",
   "name": "python",
   "nbconvert_exporter": "python",
   "pygments_lexer": "ipython3",
   "version": "3.7.13"
  },
  "widgets": {
   "application/vnd.jupyter.widget-state+json": {
    "00254473fe794ba8a1fd54257411da33": {
     "model_module": "@jupyter-widgets/base",
     "model_module_version": "1.2.0",
     "model_name": "LayoutModel",
     "state": {
      "_model_module": "@jupyter-widgets/base",
      "_model_module_version": "1.2.0",
      "_model_name": "LayoutModel",
      "_view_count": null,
      "_view_module": "@jupyter-widgets/base",
      "_view_module_version": "1.2.0",
      "_view_name": "LayoutView",
      "align_content": null,
      "align_items": null,
      "align_self": null,
      "border": null,
      "bottom": null,
      "display": null,
      "flex": null,
      "flex_flow": null,
      "grid_area": null,
      "grid_auto_columns": null,
      "grid_auto_flow": null,
      "grid_auto_rows": null,
      "grid_column": null,
      "grid_gap": null,
      "grid_row": null,
      "grid_template_areas": null,
      "grid_template_columns": null,
      "grid_template_rows": null,
      "height": null,
      "justify_content": null,
      "justify_items": null,
      "left": null,
      "margin": null,
      "max_height": null,
      "max_width": null,
      "min_height": null,
      "min_width": null,
      "object_fit": null,
      "object_position": null,
      "order": null,
      "overflow": null,
      "overflow_x": null,
      "overflow_y": null,
      "padding": null,
      "right": null,
      "top": null,
      "visibility": null,
      "width": null
     }
    },
    "04f8e23eca584770993b2d087db59010": {
     "model_module": "@jupyter-widgets/base",
     "model_module_version": "1.2.0",
     "model_name": "LayoutModel",
     "state": {
      "_model_module": "@jupyter-widgets/base",
      "_model_module_version": "1.2.0",
      "_model_name": "LayoutModel",
      "_view_count": null,
      "_view_module": "@jupyter-widgets/base",
      "_view_module_version": "1.2.0",
      "_view_name": "LayoutView",
      "align_content": null,
      "align_items": null,
      "align_self": null,
      "border": null,
      "bottom": null,
      "display": null,
      "flex": null,
      "flex_flow": null,
      "grid_area": null,
      "grid_auto_columns": null,
      "grid_auto_flow": null,
      "grid_auto_rows": null,
      "grid_column": null,
      "grid_gap": null,
      "grid_row": null,
      "grid_template_areas": null,
      "grid_template_columns": null,
      "grid_template_rows": null,
      "height": null,
      "justify_content": null,
      "justify_items": null,
      "left": null,
      "margin": null,
      "max_height": null,
      "max_width": null,
      "min_height": null,
      "min_width": null,
      "object_fit": null,
      "object_position": null,
      "order": null,
      "overflow": null,
      "overflow_x": null,
      "overflow_y": null,
      "padding": null,
      "right": null,
      "top": null,
      "visibility": null,
      "width": null
     }
    },
    "26f3627177ef4eb78f06aca09193557d": {
     "model_module": "@jupyter-widgets/controls",
     "model_module_version": "1.5.0",
     "model_name": "ProgressStyleModel",
     "state": {
      "_model_module": "@jupyter-widgets/controls",
      "_model_module_version": "1.5.0",
      "_model_name": "ProgressStyleModel",
      "_view_count": null,
      "_view_module": "@jupyter-widgets/base",
      "_view_module_version": "1.2.0",
      "_view_name": "StyleView",
      "bar_color": null,
      "description_width": ""
     }
    },
    "5bb048e8df7f45b4b9f790b263377e87": {
     "model_module": "@jupyter-widgets/controls",
     "model_module_version": "1.5.0",
     "model_name": "HTMLModel",
     "state": {
      "_dom_classes": [],
      "_model_module": "@jupyter-widgets/controls",
      "_model_module_version": "1.5.0",
      "_model_name": "HTMLModel",
      "_view_count": null,
      "_view_module": "@jupyter-widgets/controls",
      "_view_module_version": "1.5.0",
      "_view_name": "HTMLView",
      "description": "",
      "description_tooltip": null,
      "layout": "IPY_MODEL_00254473fe794ba8a1fd54257411da33",
      "placeholder": "​",
      "style": "IPY_MODEL_67445e138fab4d64b84112e33397af6c",
      "value": " 201/500 [38:22&lt;57:12, 11.48s/it]"
     }
    },
    "67445e138fab4d64b84112e33397af6c": {
     "model_module": "@jupyter-widgets/controls",
     "model_module_version": "1.5.0",
     "model_name": "DescriptionStyleModel",
     "state": {
      "_model_module": "@jupyter-widgets/controls",
      "_model_module_version": "1.5.0",
      "_model_name": "DescriptionStyleModel",
      "_view_count": null,
      "_view_module": "@jupyter-widgets/base",
      "_view_module_version": "1.2.0",
      "_view_name": "StyleView",
      "description_width": ""
     }
    },
    "932ec716f2ed43ae9717d324b287f67a": {
     "model_module": "@jupyter-widgets/controls",
     "model_module_version": "1.5.0",
     "model_name": "FloatProgressModel",
     "state": {
      "_dom_classes": [],
      "_model_module": "@jupyter-widgets/controls",
      "_model_module_version": "1.5.0",
      "_model_name": "FloatProgressModel",
      "_view_count": null,
      "_view_module": "@jupyter-widgets/controls",
      "_view_module_version": "1.5.0",
      "_view_name": "ProgressView",
      "bar_style": "",
      "description": "",
      "description_tooltip": null,
      "layout": "IPY_MODEL_fc9c2e0ffbb64405915b0176264fb833",
      "max": 500,
      "min": 0,
      "orientation": "horizontal",
      "style": "IPY_MODEL_26f3627177ef4eb78f06aca09193557d",
      "value": 201
     }
    },
    "a5f88153215b4d38bff7d217cb43a40a": {
     "model_module": "@jupyter-widgets/controls",
     "model_module_version": "1.5.0",
     "model_name": "HTMLModel",
     "state": {
      "_dom_classes": [],
      "_model_module": "@jupyter-widgets/controls",
      "_model_module_version": "1.5.0",
      "_model_name": "HTMLModel",
      "_view_count": null,
      "_view_module": "@jupyter-widgets/controls",
      "_view_module_version": "1.5.0",
      "_view_name": "HTMLView",
      "description": "",
      "description_tooltip": null,
      "layout": "IPY_MODEL_04f8e23eca584770993b2d087db59010",
      "placeholder": "​",
      "style": "IPY_MODEL_c701cd63d0af4264b809ca03dae161db",
      "value": " 40%"
     }
    },
    "c701cd63d0af4264b809ca03dae161db": {
     "model_module": "@jupyter-widgets/controls",
     "model_module_version": "1.5.0",
     "model_name": "DescriptionStyleModel",
     "state": {
      "_model_module": "@jupyter-widgets/controls",
      "_model_module_version": "1.5.0",
      "_model_name": "DescriptionStyleModel",
      "_view_count": null,
      "_view_module": "@jupyter-widgets/base",
      "_view_module_version": "1.2.0",
      "_view_name": "StyleView",
      "description_width": ""
     }
    },
    "ca5b5e0ab918456684bda5fb302b4fce": {
     "model_module": "@jupyter-widgets/base",
     "model_module_version": "1.2.0",
     "model_name": "LayoutModel",
     "state": {
      "_model_module": "@jupyter-widgets/base",
      "_model_module_version": "1.2.0",
      "_model_name": "LayoutModel",
      "_view_count": null,
      "_view_module": "@jupyter-widgets/base",
      "_view_module_version": "1.2.0",
      "_view_name": "LayoutView",
      "align_content": null,
      "align_items": null,
      "align_self": null,
      "border": null,
      "bottom": null,
      "display": null,
      "flex": null,
      "flex_flow": null,
      "grid_area": null,
      "grid_auto_columns": null,
      "grid_auto_flow": null,
      "grid_auto_rows": null,
      "grid_column": null,
      "grid_gap": null,
      "grid_row": null,
      "grid_template_areas": null,
      "grid_template_columns": null,
      "grid_template_rows": null,
      "height": null,
      "justify_content": null,
      "justify_items": null,
      "left": null,
      "margin": null,
      "max_height": null,
      "max_width": null,
      "min_height": null,
      "min_width": null,
      "object_fit": null,
      "object_position": null,
      "order": null,
      "overflow": null,
      "overflow_x": null,
      "overflow_y": null,
      "padding": null,
      "right": null,
      "top": null,
      "visibility": null,
      "width": null
     }
    },
    "e3c5c911d5a54fcd8920e68c42e9b360": {
     "model_module": "@jupyter-widgets/controls",
     "model_module_version": "1.5.0",
     "model_name": "HBoxModel",
     "state": {
      "_dom_classes": [],
      "_model_module": "@jupyter-widgets/controls",
      "_model_module_version": "1.5.0",
      "_model_name": "HBoxModel",
      "_view_count": null,
      "_view_module": "@jupyter-widgets/controls",
      "_view_module_version": "1.5.0",
      "_view_name": "HBoxView",
      "box_style": "",
      "children": [
       "IPY_MODEL_a5f88153215b4d38bff7d217cb43a40a",
       "IPY_MODEL_932ec716f2ed43ae9717d324b287f67a",
       "IPY_MODEL_5bb048e8df7f45b4b9f790b263377e87"
      ],
      "layout": "IPY_MODEL_ca5b5e0ab918456684bda5fb302b4fce"
     }
    },
    "fc9c2e0ffbb64405915b0176264fb833": {
     "model_module": "@jupyter-widgets/base",
     "model_module_version": "1.2.0",
     "model_name": "LayoutModel",
     "state": {
      "_model_module": "@jupyter-widgets/base",
      "_model_module_version": "1.2.0",
      "_model_name": "LayoutModel",
      "_view_count": null,
      "_view_module": "@jupyter-widgets/base",
      "_view_module_version": "1.2.0",
      "_view_name": "LayoutView",
      "align_content": null,
      "align_items": null,
      "align_self": null,
      "border": null,
      "bottom": null,
      "display": null,
      "flex": null,
      "flex_flow": null,
      "grid_area": null,
      "grid_auto_columns": null,
      "grid_auto_flow": null,
      "grid_auto_rows": null,
      "grid_column": null,
      "grid_gap": null,
      "grid_row": null,
      "grid_template_areas": null,
      "grid_template_columns": null,
      "grid_template_rows": null,
      "height": null,
      "justify_content": null,
      "justify_items": null,
      "left": null,
      "margin": null,
      "max_height": null,
      "max_width": null,
      "min_height": null,
      "min_width": null,
      "object_fit": null,
      "object_position": null,
      "order": null,
      "overflow": null,
      "overflow_x": null,
      "overflow_y": null,
      "padding": null,
      "right": null,
      "top": null,
      "visibility": null,
      "width": null
     }
    }
   }
  }
 },
 "nbformat": 4,
 "nbformat_minor": 1
}
